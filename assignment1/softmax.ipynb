{
 "cells": [
  {
   "cell_type": "markdown",
   "metadata": {},
   "source": [
    "# Softmax exercise\n",
    "\n",
    "*Complete and hand in this completed worksheet (including its outputs and any supporting code outside of the worksheet) with your assignment submission. For more details see the [assignments page](http://vision.stanford.edu/teaching/cs231n/assignments.html) on the course website.*\n",
    "\n",
    "This exercise is analogous to the SVM exercise. You will:\n",
    "\n",
    "- implement a fully-vectorized **loss function** for the Softmax classifier\n",
    "- implement the fully-vectorized expression for its **analytic gradient**\n",
    "- **check your implementation** with numerical gradient\n",
    "- use a validation set to **tune the learning rate and regularization** strength\n",
    "- **optimize** the loss function with **SGD**\n",
    "- **visualize** the final learned weights\n"
   ]
  },
  {
   "cell_type": "code",
   "execution_count": 1,
   "metadata": {},
   "outputs": [],
   "source": [
    "import random\n",
    "import numpy as np\n",
    "from cs231n.data_utils import load_CIFAR10\n",
    "import matplotlib.pyplot as plt\n",
    "\n",
    "from __future__ import print_function\n",
    "\n",
    "%matplotlib inline\n",
    "plt.rcParams['figure.figsize'] = (10.0, 8.0) # set default size of plots\n",
    "plt.rcParams['image.interpolation'] = 'nearest'\n",
    "plt.rcParams['image.cmap'] = 'gray'\n",
    "\n",
    "# for auto-reloading extenrnal modules\n",
    "# see http://stackoverflow.com/questions/1907993/autoreload-of-modules-in-ipython\n",
    "%load_ext autoreload\n",
    "%autoreload 2"
   ]
  },
  {
   "cell_type": "code",
   "execution_count": 2,
   "metadata": {},
   "outputs": [
    {
     "name": "stdout",
     "output_type": "stream",
     "text": [
      "Train data shape:  (49000, 3073)\n",
      "Train labels shape:  (49000,)\n",
      "Validation data shape:  (1000, 3073)\n",
      "Validation labels shape:  (1000,)\n",
      "Test data shape:  (1000, 3073)\n",
      "Test labels shape:  (1000,)\n",
      "dev data shape:  (500, 3073)\n",
      "dev labels shape:  (500,)\n"
     ]
    }
   ],
   "source": [
    "def get_CIFAR10_data(num_training=49000, num_validation=1000, num_test=1000, num_dev=500):\n",
    "    \"\"\"\n",
    "    Load the CIFAR-10 dataset from disk and perform preprocessing to prepare\n",
    "    it for the linear classifier. These are the same steps as we used for the\n",
    "    SVM, but condensed to a single function.  \n",
    "    \"\"\"\n",
    "    # Load the raw CIFAR-10 data\n",
    "    cifar10_dir = 'cs231n/datasets/cifar-10-batches-py'\n",
    "    \n",
    "    X_train, y_train, X_test, y_test = load_CIFAR10(cifar10_dir)\n",
    "    \n",
    "    # subsample the data\n",
    "    mask = list(range(num_training, num_training + num_validation))\n",
    "    X_val = X_train[mask]\n",
    "    y_val = y_train[mask]\n",
    "    mask = list(range(num_training))\n",
    "    X_train = X_train[mask]\n",
    "    y_train = y_train[mask]\n",
    "    mask = list(range(num_test))\n",
    "    X_test = X_test[mask]\n",
    "    y_test = y_test[mask]\n",
    "    mask = np.random.choice(num_training, num_dev, replace=False)\n",
    "    X_dev = X_train[mask]\n",
    "    y_dev = y_train[mask]\n",
    "    \n",
    "    # Preprocessing: reshape the image data into rows\n",
    "    X_train = np.reshape(X_train, (X_train.shape[0], -1))\n",
    "    X_val = np.reshape(X_val, (X_val.shape[0], -1))\n",
    "    X_test = np.reshape(X_test, (X_test.shape[0], -1))\n",
    "    X_dev = np.reshape(X_dev, (X_dev.shape[0], -1))\n",
    "    \n",
    "    # Normalize the data: subtract the mean image\n",
    "    mean_image = np.mean(X_train, axis = 0)\n",
    "    X_train -= mean_image\n",
    "    X_val -= mean_image\n",
    "    X_test -= mean_image\n",
    "    X_dev -= mean_image\n",
    "    \n",
    "    # add bias dimension and transform into columns\n",
    "    X_train = np.hstack([X_train, np.ones((X_train.shape[0], 1))])\n",
    "    X_val = np.hstack([X_val, np.ones((X_val.shape[0], 1))])\n",
    "    X_test = np.hstack([X_test, np.ones((X_test.shape[0], 1))])\n",
    "    X_dev = np.hstack([X_dev, np.ones((X_dev.shape[0], 1))])\n",
    "    \n",
    "    return X_train, y_train, X_val, y_val, X_test, y_test, X_dev, y_dev\n",
    "\n",
    "\n",
    "# Cleaning up variables to prevent loading data multiple times (which may cause memory issue)\n",
    "try:\n",
    "   del X_train, y_train\n",
    "   del X_test, y_test\n",
    "   print('Clear previously loaded data.')\n",
    "except:\n",
    "   pass\n",
    "\n",
    "# Invoke the above function to get our data.\n",
    "X_train, y_train, X_val, y_val, X_test, y_test, X_dev, y_dev = get_CIFAR10_data()\n",
    "print('Train data shape: ', X_train.shape)\n",
    "print('Train labels shape: ', y_train.shape)\n",
    "print('Validation data shape: ', X_val.shape)\n",
    "print('Validation labels shape: ', y_val.shape)\n",
    "print('Test data shape: ', X_test.shape)\n",
    "print('Test labels shape: ', y_test.shape)\n",
    "print('dev data shape: ', X_dev.shape)\n",
    "print('dev labels shape: ', y_dev.shape)"
   ]
  },
  {
   "cell_type": "markdown",
   "metadata": {},
   "source": [
    "## Softmax Classifier\n",
    "\n",
    "Your code for this section will all be written inside **cs231n/classifiers/softmax.py**. \n"
   ]
  },
  {
   "cell_type": "code",
   "execution_count": 10,
   "metadata": {},
   "outputs": [
    {
     "name": "stdout",
     "output_type": "stream",
     "text": [
      "loss: 2.318076\n",
      "sanity check: 2.302585\n"
     ]
    }
   ],
   "source": [
    "# First implement the naive softmax loss function with nested loops.\n",
    "# Open the file cs231n/classifiers/softmax.py and implement the\n",
    "# softmax_loss_naive function.\n",
    "\n",
    "from cs231n.classifiers.softmax import softmax_loss_naive\n",
    "import time\n",
    "\n",
    "# Generate a random softmax weight matrix and use it to compute the loss.\n",
    "W = np.random.randn(3073, 10) * 0.0001\n",
    "loss, grad = softmax_loss_naive(W, X_dev, y_dev, 0.0)\n",
    "\n",
    "# As a rough sanity check, our loss should be something close to -log(0.1).\n",
    "print('loss: %f' % loss)\n",
    "print('sanity check: %f' % (-np.log(0.1)))"
   ]
  },
  {
   "cell_type": "markdown",
   "metadata": {},
   "source": [
    "## Inline Question 1:\n",
    "Why do we expect our loss to be close to -log(0.1)? Explain briefly.**\n",
    "\n",
    "**Your answer:** *Fill this in*\n"
   ]
  },
  {
   "cell_type": "code",
   "execution_count": 18,
   "metadata": {},
   "outputs": [
    {
     "name": "stdout",
     "output_type": "stream",
     "text": [
      "numerical: 0.444089 analytic: 0.444089, relative error: 7.555162e-08\n",
      "numerical: 0.195626 analytic: 0.195626, relative error: 1.029940e-07\n",
      "numerical: -0.206754 analytic: -0.206754, relative error: 1.567290e-07\n",
      "numerical: 0.534744 analytic: 0.534744, relative error: 8.279908e-08\n",
      "numerical: -2.440021 analytic: -2.440021, relative error: 4.972789e-09\n",
      "numerical: -3.046163 analytic: -3.046163, relative error: 2.882224e-09\n",
      "numerical: -3.372456 analytic: -3.372456, relative error: 2.189320e-08\n",
      "numerical: 0.930059 analytic: 0.930059, relative error: 1.544794e-08\n",
      "numerical: -0.554290 analytic: -0.554290, relative error: 2.937379e-08\n",
      "numerical: 0.033232 analytic: 0.033232, relative error: 6.423065e-07\n",
      "numerical: -0.524287 analytic: -0.524287, relative error: 2.898890e-08\n",
      "numerical: 1.662558 analytic: 1.662558, relative error: 4.229078e-09\n",
      "numerical: -0.771489 analytic: -0.771489, relative error: 7.021859e-08\n",
      "numerical: 0.519971 analytic: 0.519971, relative error: 1.021163e-07\n",
      "numerical: 0.622120 analytic: 0.622120, relative error: 2.918423e-08\n",
      "numerical: -0.022675 analytic: -0.022675, relative error: 3.961588e-07\n",
      "numerical: -1.571845 analytic: -1.571845, relative error: 1.870098e-08\n",
      "numerical: 2.067392 analytic: 2.067392, relative error: 3.970284e-09\n",
      "numerical: 0.197558 analytic: 0.197558, relative error: 1.379772e-07\n",
      "numerical: -1.961329 analytic: -1.961329, relative error: 1.286040e-08\n"
     ]
    }
   ],
   "source": [
    "# Complete the implementation of softmax_loss_naive and implement a (naive)\n",
    "# version of the gradient that uses nested loops.\n",
    "loss, grad = softmax_loss_naive(W, X_dev, y_dev, 0.0)\n",
    "\n",
    "# As we did for the SVM, use numeric gradient checking as a debugging tool.\n",
    "# The numeric gradient should be close to the analytic gradient.\n",
    "from cs231n.gradient_check import grad_check_sparse\n",
    "f = lambda w: softmax_loss_naive(w, X_dev, y_dev, 0.0)[0]\n",
    "grad_numerical = grad_check_sparse(f, W, grad, 10)\n",
    "\n",
    "# similar to SVM case, do another gradient check with regularization\n",
    "loss, grad = softmax_loss_naive(W, X_dev, y_dev, 5e1)\n",
    "f = lambda w: softmax_loss_naive(w, X_dev, y_dev, 5e1)[0]\n",
    "grad_numerical = grad_check_sparse(f, W, grad, 10)"
   ]
  },
  {
   "cell_type": "code",
   "execution_count": 21,
   "metadata": {},
   "outputs": [
    {
     "name": "stdout",
     "output_type": "stream",
     "text": [
      "naive loss: 2.311079e+00 computed in 0.076394s\n",
      "vectorized loss: 2.311079e+00 computed in 0.011498s\n",
      "Loss difference: 0.000000\n",
      "Gradient difference: 0.000000\n"
     ]
    }
   ],
   "source": [
    "# Now that we have a naive implementation of the softmax loss function and its gradient,\n",
    "# implement a vectorized version in softmax_loss_vectorized.\n",
    "# The two versions should compute the same results, but the vectorized version should be\n",
    "# much faster.\n",
    "tic = time.time()\n",
    "loss_naive, grad_naive = softmax_loss_naive(W, X_dev, y_dev, 0.000005)\n",
    "toc = time.time()\n",
    "print('naive loss: %e computed in %fs' % (loss_naive, toc - tic))\n",
    "\n",
    "from cs231n.classifiers.softmax import softmax_loss_vectorized\n",
    "tic = time.time()\n",
    "loss_vectorized, grad_vectorized = softmax_loss_vectorized(W, X_dev, y_dev, 0.000005)\n",
    "toc = time.time()\n",
    "print('vectorized loss: %e computed in %fs' % (loss_vectorized, toc - tic))\n",
    "\n",
    "# As we did for the SVM, we use the Frobenius norm to compare the two versions\n",
    "# of the gradient.\n",
    "grad_difference = np.linalg.norm(grad_naive - grad_vectorized, ord='fro')\n",
    "print('Loss difference: %f' % np.abs(loss_naive - loss_vectorized))\n",
    "print('Gradient difference: %f' % grad_difference)"
   ]
  },
  {
   "cell_type": "code",
   "execution_count": 26,
   "metadata": {},
   "outputs": [
    {
     "name": "stderr",
     "output_type": "stream",
     "text": [
      "/windows/Users/fabia/Documents/MMDS/Projects/cs231n/assignment1/cs231n/classifiers/softmax.py:82: RuntimeWarning: divide by zero encountered in log\n",
      "  dscores /= num_train\n",
      "/windows/Users/fabia/Documents/MMDS/Projects/cs231n/assignment1/cs231n/classifiers/softmax.py:94: RuntimeWarning: overflow encountered in double_scalars\n",
      "/home/fdschmidt/anaconda3/lib/python3.6/site-packages/numpy/core/_methods.py:32: RuntimeWarning: overflow encountered in reduce\n",
      "  return umr_sum(a, axis, dtype, out, keepdims)\n",
      "/windows/Users/fabia/Documents/MMDS/Projects/cs231n/assignment1/cs231n/classifiers/softmax.py:94: RuntimeWarning: overflow encountered in multiply\n",
      "/windows/Users/fabia/Documents/MMDS/Projects/cs231n/assignment1/cs231n/classifiers/softmax.py:8: RuntimeWarning: overflow encountered in subtract\n",
      "  Wx -= np.max(Wx, axis = -1, keepdims = True)\n",
      "/windows/Users/fabia/Documents/MMDS/Projects/cs231n/assignment1/cs231n/classifiers/softmax.py:95: RuntimeWarning: overflow encountered in multiply\n",
      "/windows/Users/fabia/Documents/MMDS/Projects/cs231n/assignment1/cs231n/classifiers/softmax.py:8: RuntimeWarning: invalid value encountered in subtract\n",
      "  Wx -= np.max(Wx, axis = -1, keepdims = True)\n",
      "/home/fdschmidt/anaconda3/lib/python3.6/site-packages/numpy/core/_methods.py:26: RuntimeWarning: invalid value encountered in reduce\n",
      "  return umr_maximum(a, axis, None, out, keepdims)\n"
     ]
    },
    {
     "name": "stdout",
     "output_type": "stream",
     "text": [
      "lr 5.000000e-09 reg 2.500000e+04 train accuracy: 0.159776 val accuracy: 0.163000\n",
      "lr 5.000000e-09 reg 3.000000e+04 train accuracy: 0.153327 val accuracy: 0.139000\n",
      "lr 5.000000e-09 reg 3.500000e+04 train accuracy: 0.147408 val accuracy: 0.148000\n",
      "lr 5.000000e-09 reg 4.000000e+04 train accuracy: 0.145408 val accuracy: 0.157000\n",
      "lr 5.000000e-09 reg 4.500000e+04 train accuracy: 0.138000 val accuracy: 0.140000\n",
      "lr 5.000000e-09 reg 5.000000e+04 train accuracy: 0.146020 val accuracy: 0.144000\n",
      "lr 5.000000e-09 reg 6.000000e+04 train accuracy: 0.173184 val accuracy: 0.175000\n",
      "lr 1.000000e-08 reg 2.500000e+04 train accuracy: 0.197551 val accuracy: 0.202000\n",
      "lr 1.000000e-08 reg 3.000000e+04 train accuracy: 0.183878 val accuracy: 0.191000\n",
      "lr 1.000000e-08 reg 3.500000e+04 train accuracy: 0.180408 val accuracy: 0.150000\n",
      "lr 1.000000e-08 reg 4.000000e+04 train accuracy: 0.173429 val accuracy: 0.168000\n",
      "lr 1.000000e-08 reg 4.500000e+04 train accuracy: 0.196490 val accuracy: 0.185000\n",
      "lr 1.000000e-08 reg 5.000000e+04 train accuracy: 0.213224 val accuracy: 0.225000\n",
      "lr 1.000000e-08 reg 6.000000e+04 train accuracy: 0.232408 val accuracy: 0.246000\n",
      "lr 5.000000e-08 reg 2.500000e+04 train accuracy: 0.329776 val accuracy: 0.343000\n",
      "lr 5.000000e-08 reg 3.000000e+04 train accuracy: 0.323163 val accuracy: 0.329000\n",
      "lr 5.000000e-08 reg 3.500000e+04 train accuracy: 0.318959 val accuracy: 0.332000\n",
      "lr 5.000000e-08 reg 4.000000e+04 train accuracy: 0.314571 val accuracy: 0.321000\n",
      "lr 5.000000e-08 reg 4.500000e+04 train accuracy: 0.306429 val accuracy: 0.327000\n",
      "lr 5.000000e-08 reg 5.000000e+04 train accuracy: 0.302102 val accuracy: 0.324000\n",
      "lr 5.000000e-08 reg 6.000000e+04 train accuracy: 0.303449 val accuracy: 0.318000\n",
      "lr 1.000000e-07 reg 2.500000e+04 train accuracy: 0.327306 val accuracy: 0.344000\n",
      "lr 1.000000e-07 reg 3.000000e+04 train accuracy: 0.320735 val accuracy: 0.335000\n",
      "lr 1.000000e-07 reg 3.500000e+04 train accuracy: 0.316776 val accuracy: 0.332000\n",
      "lr 1.000000e-07 reg 4.000000e+04 train accuracy: 0.314776 val accuracy: 0.328000\n",
      "lr 1.000000e-07 reg 4.500000e+04 train accuracy: 0.310061 val accuracy: 0.314000\n",
      "lr 1.000000e-07 reg 5.000000e+04 train accuracy: 0.317918 val accuracy: 0.329000\n",
      "lr 1.000000e-07 reg 6.000000e+04 train accuracy: 0.290857 val accuracy: 0.310000\n",
      "lr 1.000000e-06 reg 2.500000e+04 train accuracy: 0.315020 val accuracy: 0.320000\n",
      "lr 1.000000e-06 reg 3.000000e+04 train accuracy: 0.323531 val accuracy: 0.345000\n",
      "lr 1.000000e-06 reg 3.500000e+04 train accuracy: 0.295694 val accuracy: 0.300000\n",
      "lr 1.000000e-06 reg 4.000000e+04 train accuracy: 0.296408 val accuracy: 0.311000\n",
      "lr 1.000000e-06 reg 4.500000e+04 train accuracy: 0.313510 val accuracy: 0.318000\n",
      "lr 1.000000e-06 reg 5.000000e+04 train accuracy: 0.303020 val accuracy: 0.294000\n",
      "lr 1.000000e-06 reg 6.000000e+04 train accuracy: 0.284102 val accuracy: 0.287000\n",
      "lr 1.000000e-05 reg 2.500000e+04 train accuracy: 0.162735 val accuracy: 0.148000\n",
      "lr 1.000000e-05 reg 3.000000e+04 train accuracy: 0.126816 val accuracy: 0.123000\n",
      "lr 1.000000e-05 reg 3.500000e+04 train accuracy: 0.079735 val accuracy: 0.056000\n",
      "lr 1.000000e-05 reg 4.000000e+04 train accuracy: 0.092673 val accuracy: 0.085000\n",
      "lr 1.000000e-05 reg 4.500000e+04 train accuracy: 0.075959 val accuracy: 0.074000\n",
      "lr 1.000000e-05 reg 5.000000e+04 train accuracy: 0.071816 val accuracy: 0.067000\n",
      "lr 1.000000e-05 reg 6.000000e+04 train accuracy: 0.081592 val accuracy: 0.071000\n",
      "lr 5.000000e-05 reg 2.500000e+04 train accuracy: 0.072408 val accuracy: 0.063000\n",
      "lr 5.000000e-05 reg 3.000000e+04 train accuracy: 0.100265 val accuracy: 0.087000\n",
      "lr 5.000000e-05 reg 3.500000e+04 train accuracy: 0.100265 val accuracy: 0.087000\n",
      "lr 5.000000e-05 reg 4.000000e+04 train accuracy: 0.100265 val accuracy: 0.087000\n",
      "lr 5.000000e-05 reg 4.500000e+04 train accuracy: 0.100265 val accuracy: 0.087000\n",
      "lr 5.000000e-05 reg 5.000000e+04 train accuracy: 0.100265 val accuracy: 0.087000\n",
      "lr 5.000000e-05 reg 6.000000e+04 train accuracy: 0.100265 val accuracy: 0.087000\n",
      "best validation accuracy achieved during cross-validation: 0.345000\n"
     ]
    }
   ],
   "source": [
    "# Use the validation set to tune hyperparameters (regularization strength and\n",
    "# learning rate). You should experiment with different ranges for the learning\n",
    "# rates and regularization strengths; if you are careful you should be able to\n",
    "# get a classification accuracy of over 0.35 on the validation set.\n",
    "from cs231n.classifiers import Softmax\n",
    "results = {}\n",
    "best_val = -1\n",
    "best_softmax = None\n",
    "learning_rates = [1e-8,0.5e-8,1e-7,0.5e-7,1e-6,1e-5, 5e-5]\n",
    "regularization_strengths = [2.5e4,3e4,3.5e4,4e4,4.5e4, 5e4, 6e4]\n",
    "\n",
    "################################################################################\n",
    "# TODO:                                                                        #\n",
    "# Use the validation set to set the learning rate and regularization strength. #\n",
    "# This should be identical to the validation that you did for the SVM; save    #\n",
    "# the best trained softmax classifer in best_softmax.                          #\n",
    "################################################################################\n",
    "\n",
    "iters = 1500\n",
    "softmax = {}\n",
    "for lr in learning_rates:\n",
    "    for reg_str in regularization_strengths:\n",
    "        softmax[(lr, reg_str)] = Softmax()        \n",
    "        softmax[(lr, reg_str)].train(X_train, y_train,learning_rate=lr, reg=reg_str, num_iters=iters)\n",
    "        y_train_pred = softmax[(lr, reg_str)].predict(X_train)\n",
    "        y_train_acc = np.mean(y_train == y_train_pred)\n",
    "        y_val_pred = softmax[(lr, reg_str)].predict(X_val)\n",
    "        y_val_acc = np.mean(y_val == y_val_pred)\n",
    "        results[(lr, reg_str)] = (y_train_acc, y_val_acc)\n",
    "        if y_val_acc > best_val:\n",
    "            best_val = y_val_acc\n",
    "            best_softmax = softmax[(lr, reg_str)]\n",
    "\n",
    "################################################################################\n",
    "#                              END OF YOUR CODE                                #\n",
    "################################################################################\n",
    "    \n",
    "# Print out results.\n",
    "for lr, reg in sorted(results):\n",
    "    train_accuracy, val_accuracy = results[(lr, reg)]\n",
    "    print('lr %e reg %e train accuracy: %f val accuracy: %f' % (\n",
    "                lr, reg, train_accuracy, val_accuracy))\n",
    "    \n",
    "print('best validation accuracy achieved during cross-validation: %f' % best_val)"
   ]
  },
  {
   "cell_type": "code",
   "execution_count": 29,
   "metadata": {},
   "outputs": [
    {
     "name": "stdout",
     "output_type": "stream",
     "text": [
      "softmax on raw pixels final test set accuracy: 0.333000\n"
     ]
    }
   ],
   "source": [
    "# evaluate on test set\n",
    "# Evaluate the best softmax on test set\n",
    "y_test_pred = best_softmax.predict(X_test)\n",
    "test_accuracy = np.mean(y_test == y_test_pred)\n",
    "print('softmax on raw pixels final test set accuracy: %f' % (test_accuracy, ))"
   ]
  },
  {
   "cell_type": "markdown",
   "metadata": {},
   "source": [
    "**Inline Question** - *True or False*\n",
    "\n",
    "It's possible to add a new datapoint to a training set that would leave the SVM loss unchanged, but this is not the case with the Softmax classifier loss.\n",
    "\n",
    "*Your answer*:\n",
    "\n",
    "*Your explanation*:"
   ]
  },
  {
   "cell_type": "code",
   "execution_count": 31,
   "metadata": {},
   "outputs": [
    {
     "data": {
      "image/png": "[encoded data removed]",
      "text/plain": [
       "<matplotlib.figure.Figure at 0x7f1a642b0940>"
      ]
     },
     "metadata": {},
     "output_type": "display_data"
    }
   ],
   "source": [
    "# Visualize the learned weights for each class\n",
    "w = best_softmax.W[:-1,:] # strip out the bias\n",
    "w = w.reshape(32, 32, 3, 10)\n",
    "\n",
    "w_min, w_max = np.min(w), np.max(w)\n",
    "\n",
    "classes = ['plane', 'car', 'bird', 'cat', 'deer', 'dog', 'frog', 'horse', 'ship', 'truck']\n",
    "for i in range(10):\n",
    "    plt.subplot(2, 5, i + 1)\n",
    "    \n",
    "    # Rescale the weights to be between 0 and 255\n",
    "    wimg = 255.0 * (w[:, :, :, i].squeeze() - w_min) / (w_max - w_min)\n",
    "    plt.imshow(wimg.astype('uint8'))\n",
    "    plt.axis('off')\n",
    "    plt.title(classes[i])"
   ]
  },
  {
   "cell_type": "code",
   "execution_count": null,
   "metadata": {},
   "outputs": [],
   "source": []
  }
 ],
 "metadata": {
  "kernelspec": {
   "display_name": "Python 3",
   "language": "python",
   "name": "python3"
  },
  "language_info": {
   "codemirror_mode": {
    "name": "ipython",
    "version": 3
   },
   "file_extension": ".py",
   "mimetype": "text/x-python",
   "name": "python",
   "nbconvert_exporter": "python",
   "pygments_lexer": "ipython3",
   "version": "3.6.4"
  }
 },
 "nbformat": 4,
 "nbformat_minor": 2
}
